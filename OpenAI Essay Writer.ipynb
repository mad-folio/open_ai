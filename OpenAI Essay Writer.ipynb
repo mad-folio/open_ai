{
 "cells": [
  {
   "cell_type": "code",
   "execution_count": 21,
   "id": "038e1c5c",
   "metadata": {},
   "outputs": [],
   "source": [
    "# Tell me what you want to write about\n",
    "\n",
    "topic = \"Design Thinking\"\n",
    "toc_seed = \"Introduction\"\n",
    "style = \"research report\""
   ]
  },
  {
   "cell_type": "code",
   "execution_count": 22,
   "id": "5e022bd5",
   "metadata": {},
   "outputs": [],
   "source": [
    "# Set up libraries\n",
    "\n",
    "import os\n",
    "import openai\n",
    "import json\n",
    "\n",
    "openai.api_key = \"OpenAI-API-KEY\""
   ]
  },
  {
   "cell_type": "code",
   "execution_count": 23,
   "id": "3e2a9f28",
   "metadata": {},
   "outputs": [],
   "source": [
    "# Generate a table of contents\n",
    "\n",
    "intro = topic + \"\\n1. \" + toc_seed + \"\\n2.\"\n",
    "\n",
    "toc_response = openai.Completion.create(\n",
    "  engine=\"davinci\",\n",
    "  prompt=intro,\n",
    "  temperature=0.5,\n",
    "  max_tokens=70,\n",
    "  top_p=1,\n",
    "  frequency_penalty=0.52,\n",
    "  presence_penalty=0.5,\n",
    "  stop=[\"11.\"]\n",
    ")\n",
    "\n",
    "#Uncomment to see raw\n",
    "#toc_response"
   ]
  },
  {
   "cell_type": "code",
   "execution_count": 24,
   "id": "29ff5675",
   "metadata": {},
   "outputs": [
    {
     "data": {
      "text/plain": [
       "['Title: Design Thinking',\n",
       " '1. Introduction',\n",
       " '2. What is Design Thinking?',\n",
       " '3. What are the tools of design thinking?',\n",
       " '4. How do you know if it’s working?',\n",
       " '5. How can you use design thinking in your organization?',\n",
       " '6. Design Thinking and Innovation ']"
      ]
     },
     "execution_count": 24,
     "metadata": {},
     "output_type": "execute_result"
    }
   ],
   "source": [
    "# Format the table of contents and get ready for final use. \n",
    "\n",
    "TOC=[]\n",
    "TOC=\"Title: \"+ intro + (toc_response[\"choices\"][0][\"text\"])\n",
    "TOC=(TOC.split(\"\\n\"))\n",
    "TOC=[x for x in TOC if x]\n",
    "TOC"
   ]
  },
  {
   "cell_type": "code",
   "execution_count": 25,
   "id": "87755c85",
   "metadata": {},
   "outputs": [],
   "source": [
    "# Manipulate Table Of Contents To Give Input For Writing Stage\n",
    "\n",
    "followUp=[]\n",
    "followUp=[e[3:] for e in TOC[1:]]\n",
    "followUp=[\"Write a \" + style + \" on the topic of \" +topic +\" and \"+ str(x) + \"\\n\\\"\\\"\\\"\\\"\\\"\\\"\\n\" + str(x)+\"\\n\\\"\\\"\\\"\\\"\\\"\\\"\\nThis is the \" + style + \" I wrote about \" +str(x) + \"\\n\\\"\\\"\\\"\\\"\\\"\\\"\" for x in followUp]"
   ]
  },
  {
   "cell_type": "code",
   "execution_count": 26,
   "id": "b53c5df5",
   "metadata": {},
   "outputs": [],
   "source": [
    "# Generate Output Based On Table Of Contents\n",
    "\n",
    "content_response = openai.Completion.create(\n",
    "  engine=\"davinci-instruct-beta\",\n",
    "  prompt=followUp,\n",
    "  temperature=0.5,\n",
    "  max_tokens=300,\n",
    "  top_p=1.0,\n",
    "  frequency_penalty=0.52,\n",
    "  presence_penalty=0.5,\n",
    ")\n",
    "\n",
    "#Uncomment to see raw\n",
    "#content_response"
   ]
  },
  {
   "cell_type": "code",
   "execution_count": 36,
   "id": "0474b64f",
   "metadata": {},
   "outputs": [],
   "source": [
    "# Output as word document\n",
    "\n",
    "from docx import Document\n",
    "\n",
    "document = Document()\n",
    "\n",
    "document.add_heading(TOC[0],0)\n",
    "\n",
    "for i in range(0,len(content_response[\"choices\"])):\n",
    "    document.add_paragraph()\n",
    "    document.add_heading(TOC[i+1],1)\n",
    "    document.add_paragraph(content_response[\"choices\"][i][\"text\"])\n",
    "\n",
    "document.save(topic + '.docx')"
   ]
  },
  {
   "cell_type": "code",
   "execution_count": 40,
   "id": "2073fe6f",
   "metadata": {},
   "outputs": [],
   "source": [
    "# Output as markdown\n",
    "\n",
    "f = open(topic + \".md\", \"a\")\n",
    "\n",
    "f.write(\"# \" + topic)\n",
    "f.write(\"\\n> This was made using [open.ai](open.ai)\")\n",
    "\n",
    "for i in range(0,len(content_response[\"choices\"])):\n",
    "    f.write(\"\\n \\n\")\n",
    "    f.write(\"## \" + TOC[i+1])\n",
    "    f.write(content_response[\"choices\"][i][\"text\"])\n",
    "    f.write(\"\\n \\n\")\n",
    "     \n",
    "f.close()"
   ]
  },
  {
   "cell_type": "code",
   "execution_count": null,
   "id": "7b787c77",
   "metadata": {},
   "outputs": [],
   "source": []
  }
 ],
 "metadata": {
  "kernelspec": {
   "display_name": "Python 3 (ipykernel)",
   "language": "python",
   "name": "python3"
  },
  "language_info": {
   "codemirror_mode": {
    "name": "ipython",
    "version": 3
   },
   "file_extension": ".py",
   "mimetype": "text/x-python",
   "name": "python",
   "nbconvert_exporter": "python",
   "pygments_lexer": "ipython3",
   "version": "3.9.6"
  }
 },
 "nbformat": 4,
 "nbformat_minor": 5
}
