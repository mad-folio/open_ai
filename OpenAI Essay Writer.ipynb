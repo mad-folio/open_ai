{
 "cells": [
  {
   "cell_type": "code",
   "execution_count": 21,
   "source": [
    "# Tell me what you want to write about\n",
    "\n",
    "topic = \"Design Thinking\"\n",
    "toc_seed = \"Introduction\"\n",
    "style = \"research report\""
   ],
   "outputs": [],
   "metadata": {}
  },
  {
   "cell_type": "code",
   "execution_count": 22,
   "source": [
    "# Set up libraries\n",
    "\n",
    "import os\n",
    "import openai\n",
    "import json\n",
    "\n",
    "openai.api_key = \"OpenAI-API-KEY\""
   ],
   "outputs": [],
   "metadata": {}
  },
  {
   "cell_type": "code",
   "execution_count": 23,
   "source": [
    "# Generate a table of contents\n",
    "\n",
    "intro = topic + \"\\n1. \" + toc_seed + \"\\n2.\"\n",
    "\n",
    "toc_response = openai.Completion.create(\n",
    "  engine=\"davinci\",\n",
    "  prompt=intro,\n",
    "  temperature=0.5,\n",
    "  max_tokens=70,\n",
    "  top_p=1,\n",
    "  frequency_penalty=0.52,\n",
    "  presence_penalty=0.5,\n",
    "  stop=[\"11.\"]\n",
    ")\n",
    "\n",
    "#Uncomment to see raw\n",
    "#toc_response"
   ],
   "outputs": [],
   "metadata": {}
  },
  {
   "cell_type": "code",
   "execution_count": 24,
   "source": [
    "# Format the table of contents and get ready for final use. \n",
    "\n",
    "TOC=[]\n",
    "TOC=\"Title: \"+ intro + (toc_response[\"choices\"][0][\"text\"])\n",
    "TOC=(TOC.split(\"\\n\"))\n",
    "TOC=[x for x in TOC if x]\n",
    "TOC"
   ],
   "outputs": [
    {
     "output_type": "execute_result",
     "data": {
      "text/plain": [
       "['Title: Design Thinking',\n",
       " '1. Introduction',\n",
       " '2. What is Design Thinking?',\n",
       " '3. What are the tools of design thinking?',\n",
       " '4. How do you know if it’s working?',\n",
       " '5. How can you use design thinking in your organization?',\n",
       " '6. Design Thinking and Innovation ']"
      ]
     },
     "metadata": {},
     "execution_count": 24
    }
   ],
   "metadata": {}
  },
  {
   "cell_type": "code",
   "execution_count": 25,
   "source": [
    "# Manipulate Table Of Contents To Give Input For Writing Stage\n",
    "\n",
    "followUp=[]\n",
    "followUp=[e[3:] for e in TOC[1:]]\n",
    "followUp=[\"Write a \" + style + \" on the topic of \" +topic +\" and \"+ str(x) + \"\\n\\\"\\\"\\\"\\\"\\\"\\\"\\n\" + str(x)+\"\\n\\\"\\\"\\\"\\\"\\\"\\\"\\nThis is the \" + style + \" I wrote about \" +str(x) + \"\\n\\\"\\\"\\\"\\\"\\\"\\\"\" for x in followUp]"
   ],
   "outputs": [],
   "metadata": {}
  },
  {
   "cell_type": "code",
   "execution_count": 26,
   "source": [
    "# Generate Output Based On Table Of Contents\n",
    "\n",
    "content_response = openai.Completion.create(\n",
    "  engine=\"davinci-instruct-beta\",\n",
    "  prompt=followUp,\n",
    "  temperature=0.5,\n",
    "  max_tokens=300,\n",
    "  top_p=1.0,\n",
    "  frequency_penalty=0.52,\n",
    "  presence_penalty=0.5,\n",
    ")\n",
    "\n",
    "#Uncomment to see raw\n",
    "#content_response"
   ],
   "outputs": [],
   "metadata": {}
  },
  {
   "cell_type": "code",
   "execution_count": 36,
   "source": [
    "# Output as word document\n",
    "\n",
    "from docx import Document\n",
    "\n",
    "document = Document()\n",
    "\n",
    "document.add_heading(TOC[0],0)\n",
    "\n",
    "for i in range(0,len(content_response[\"choices\"])):\n",
    "    document.add_paragraph()\n",
    "    document.add_heading(TOC[i+1],1)\n",
    "    document.add_paragraph(content_response[\"choices\"][i][\"text\"])\n",
    "\n",
    "document.save(topic + '.docx')"
   ],
   "outputs": [],
   "metadata": {}
  },
  {
   "cell_type": "code",
   "execution_count": 40,
   "source": [
    "# Output as markdown\n",
    "\n",
    "f = open(topic + \".md\", \"a\")\n",
    "\n",
    "f.write(\"# \" + topic)\n",
    "f.write(\"\\n> This was made using [open.ai](open.ai)\")\n",
    "\n",
    "for i in range(0,len(content_response[\"choices\"])):\n",
    "    f.write(\"\\n \\n\")\n",
    "    f.write(\"## \" + TOC[i+1])\n",
    "    f.write(content_response[\"choices\"][i][\"text\"])\n",
    "    f.write(\"\\n \\n\")\n",
    "     \n",
    "f.close()"
   ],
   "outputs": [],
   "metadata": {}
  }
 ],
 "metadata": {
  "kernelspec": {
   "display_name": "Python 3 (ipykernel)",
   "language": "python",
   "name": "python3"
  },
  "language_info": {
   "codemirror_mode": {
    "name": "ipython",
    "version": 3
   },
   "file_extension": ".py",
   "mimetype": "text/x-python",
   "name": "python",
   "nbconvert_exporter": "python",
   "pygments_lexer": "ipython3",
   "version": "3.9.6"
  }
 },
 "nbformat": 4,
 "nbformat_minor": 5
}