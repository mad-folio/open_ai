{
 "cells": [
  {
   "cell_type": "code",
   "execution_count": null,
   "id": "7501a2e4",
   "metadata": {},
   "outputs": [],
   "source": [
    "# Tell me what you want to write about\n",
    "\n",
    "topic = \"Microservices and event driven architechture\""
   ]
  },
  {
   "cell_type": "code",
   "execution_count": 1,
   "id": "5e022bd5",
   "metadata": {
    "scrolled": true
   },
   "outputs": [],
   "source": [
    "# Set up libraries\n",
    "import os\n",
    "import openai\n",
    "import json\n",
    "\n",
    "openai.api_key = \"OPENAI-API-KEY\"\"\n",
    "\n"
   ]
  },
  {
   "cell_type": "code",
   "execution_count": 3,
   "id": "3e2a9f28",
   "metadata": {},
   "outputs": [
    {
     "data": {
      "text/plain": [
       "['Title. Microservices and event driven architechture',\n",
       " '1. Introduction, Microservices and event driven architechture',\n",
       " '2. Microservice architecture',\n",
       " '3. Event driven architecture',\n",
       " '4. Message queues and messaging systems',\n",
       " '5. Messaging patterns',\n",
       " '6. Implementing microservices with Spring Boot and Spring Cloud',\n",
       " '7. Microservices with Docker, Kubernetes and OpenShift',\n",
       " '8. Testing microservices in a container']"
      ]
     },
     "execution_count": 3,
     "metadata": {},
     "output_type": "execute_result"
    }
   ],
   "source": [
    "# Generate a table of contents\n",
    "\n",
    "intro = topic + \"\\n1. Introduction\\n2.\"\n",
    "\n",
    "toc_response = openai.Completion.create(\n",
    "  engine=\"davinci\",\n",
    "  prompt=intro,\n",
    "  temperature=0.5,\n",
    "  max_tokens=60,\n",
    "  top_p=1,\n",
    "  frequency_penalty=0.52,\n",
    "  presence_penalty=0.5,\n",
    "  stop=[\"11.\"]\n",
    ")\n",
    "\n",
    "TOC=[]\n",
    "TOC=\"Title. \"+intro + (toc_response[\"choices\"][0][\"text\"])\n",
    "\n",
    "\n",
    "TOC=(TOC.split(\"\\n\"))\n",
    "TOC[1]=TOC[1]+\", \"+topic\n",
    "TOC=[x for x in TOC if x]\n",
    "TOC"
   ]
  },
  {
   "cell_type": "code",
   "execution_count": 4,
   "id": "87755c85",
   "metadata": {},
   "outputs": [
    {
     "data": {
      "text/plain": [
       "['Write a creative essay about the topic of Microservices and event driven architechture and Introduction, Microservices and event driven architechture\\n\"\"\"\"\"\"\\nIntroduction, Microservices and event driven architechture\\n\"\"\"\"\"\"\\nThis is the essay I wrote about Introduction, Microservices and event driven architechture\\n\"\"\"\"\"\"',\n",
       " 'Write a creative essay about the topic of Microservices and event driven architechture and Microservice architecture\\n\"\"\"\"\"\"\\nMicroservice architecture\\n\"\"\"\"\"\"\\nThis is the essay I wrote about Microservice architecture\\n\"\"\"\"\"\"',\n",
       " 'Write a creative essay about the topic of Microservices and event driven architechture and Event driven architecture\\n\"\"\"\"\"\"\\nEvent driven architecture\\n\"\"\"\"\"\"\\nThis is the essay I wrote about Event driven architecture\\n\"\"\"\"\"\"',\n",
       " 'Write a creative essay about the topic of Microservices and event driven architechture and Message queues and messaging systems\\n\"\"\"\"\"\"\\nMessage queues and messaging systems\\n\"\"\"\"\"\"\\nThis is the essay I wrote about Message queues and messaging systems\\n\"\"\"\"\"\"',\n",
       " 'Write a creative essay about the topic of Microservices and event driven architechture and Messaging patterns\\n\"\"\"\"\"\"\\nMessaging patterns\\n\"\"\"\"\"\"\\nThis is the essay I wrote about Messaging patterns\\n\"\"\"\"\"\"',\n",
       " 'Write a creative essay about the topic of Microservices and event driven architechture and Implementing microservices with Spring Boot and Spring Cloud\\n\"\"\"\"\"\"\\nImplementing microservices with Spring Boot and Spring Cloud\\n\"\"\"\"\"\"\\nThis is the essay I wrote about Implementing microservices with Spring Boot and Spring Cloud\\n\"\"\"\"\"\"',\n",
       " 'Write a creative essay about the topic of Microservices and event driven architechture and Microservices with Docker, Kubernetes and OpenShift\\n\"\"\"\"\"\"\\nMicroservices with Docker, Kubernetes and OpenShift\\n\"\"\"\"\"\"\\nThis is the essay I wrote about Microservices with Docker, Kubernetes and OpenShift\\n\"\"\"\"\"\"',\n",
       " 'Write a creative essay about the topic of Microservices and event driven architechture and Testing microservices in a container\\n\"\"\"\"\"\"\\nTesting microservices in a container\\n\"\"\"\"\"\"\\nThis is the essay I wrote about Testing microservices in a container\\n\"\"\"\"\"\"']"
      ]
     },
     "execution_count": 4,
     "metadata": {},
     "output_type": "execute_result"
    }
   ],
   "source": [
    "# Manipulate Table Of Contents To Give Input For Writing Stage\n",
    "\n",
    "followUp=[]\n",
    "followUp=[e[3:] for e in TOC[1:]]\n",
    "followUp=[\"Write a creative essay about the topic of \" +topic +\" and \"+ str(x) + \"\\n\\\"\\\"\\\"\\\"\\\"\\\"\\n\" + str(x)+\"\\n\\\"\\\"\\\"\\\"\\\"\\\"\\nThis is the essay I wrote about \" +str(x) + \"\\n\\\"\\\"\\\"\\\"\\\"\\\"\" for x in followUp]"
   ]
  },
  {
   "cell_type": "code",
   "execution_count": 5,
   "id": "b53c5df5",
   "metadata": {},
   "outputs": [
    {
     "name": "stdout",
     "output_type": "stream",
     "text": [
      "{\n",
      "  \"choices\": [\n",
      "    {\n",
      "      \"finish_reason\": \"length\",\n",
      "      \"index\": 0,\n",
      "      \"logprobs\": null,\n",
      "      \"text\": \"\\n\\nMicroservices and event driven architechture are two important concepts that have been gaining traction in recent years. Microservices are a way of structuring software applications into services that can be developed and deployed independently, while event driven architechture is a way of structuring an application so that it can handle many events at the same time. This essay will explore these two concepts in more detail, as well as their benefits and drawbacks.\\n\\nThe idea behind microservices is to divide applications into small pieces, each of which can be developed and deployed as a separate service. This approach is designed to make it easier to deploy new features without affecting other parts of the application, as well as making it easier for developers to work on different parts of the application at the same time. One drawback to this approach is that microservices require more infrastructure than monolithic apps, because each service needs its own database or cache. Another drawback is that microservices may lead to increased complexity when developers need to coordinate changes across multiple services.\\n\\nEvent driven architechture works by responding to events rather than having code run continuously like a traditional web server or desktop app would do. The idea behind this approach is that instead of running code all the time, only code related to specific events should run when those events happen - for example, if someone visits a webpage then only code related to serving webpages should run on the server hosting it; if someone posts something on Facebook then only code related to\"\n",
      "    },\n",
      "    {\n",
      "      \"finish_reason\": \"length\",\n",
      "      \"index\": 1,\n",
      "      \"logprobs\": null,\n",
      "      \"text\": \"\\n\\nA microservice is a small, modular piece of software that can be developed and deployed independently. Microservices are designed to be highly autonomous, with minimal reliance on external IT systems or services. They can be written in different languages, use different databases, and work together using a common API or standard data format.\\n\\nMicroservice architecture is an approach to developing a single application as a suite of small services, each running in its own process and communicating with lightweight mechanisms such as an HTTP resource API. These services are built around business capabilities and independently deployable by fully automated deployment machinery. There is a bare minimum of centralized management of these services, which may be written in different programming languages and come from different teams. Each service can be scaled up or down according to the load it is under, without affecting other services. As well as being easy to scale out because they are independent, microservices are also easy to scale up because each one runs in its own process \\n\\nMicroservice architecture is an approach to developing a single application as a suite of small services, each running in its own process and communicating with lightweight mechanisms such as an HTTP resource API. These services are built around business capabilities and independently deployable by fully automated deployment machinery. There is a bare minimum of centralized management of these services, which may be written in different programming languages and come from different teams. Each service can be scaled up or down according to the load it is under without affecting other services. As well as\"\n",
      "    },\n",
      "    {\n",
      "      \"finish_reason\": \"stop\",\n",
      "      \"index\": 2,\n",
      "      \"logprobs\": null,\n",
      "      \"text\": \"\\nEvent driven architecture is a design pattern that allows for the system to be broken down into events. The events are then handled by different components of the system. This way, each component can focus on a specific task and they don't need to worry about other tasks.\\n\\nAn event can be anything that happens in the system, such as:\\n-A user posts on your Facebook page.\\n-A user likes your post on Facebook.\\n-A user comments on your post on Facebook.\\n-Someone follows you on Twitter. \\n-Someone retweets your tweet. \\n-Someone unfollows you on Twitter. \\n-You receive an email from someone who followed you on Twitter but didn't follow you back yet. \\n-You receive an email from someone who retweeted your tweet but didn't follow you back yet. \\netc...\"\n",
      "    },\n",
      "    {\n",
      "      \"finish_reason\": \"length\",\n",
      "      \"index\": 3,\n",
      "      \"logprobs\": null,\n",
      "      \"text\": \"\\n\\nA message queue is a temporary storage space for messages. It can be used to hold messages until they are processed, or it can be used as a means of communication between two programs. Message queues are often deployed with the help of event driven architectures and microservices.\\n\\nMessage queues are often deployed with the help of event driven architectures and microservices. In an event driven architecture, events that happen in one part of the system cause other parts of the system to take action. Event driven architectures rely on asynchronous communication to ensure that all parts of the system are aware of what's happening at any given time. An example might be a web server sending an email when someone fills out a form on their website. The web server would send an email to a queue, and then notify other parts of the system that this has happened by posting it to another queue. The second queue would then push this information to other services like customer relationship management software so that customer service agents could start responding to requests from customers who had filled out forms on their website.\\n\\nMicroservices have become increasingly popular as more companies adopt cloud computing infrastructure like Amazon Web Services (AWS). Microservices work best in environments where there is high demand for agility and scalability because they allow developers to build smaller pieces of software which can scale independently from each other without affecting performance or responsiveness for the end user or customer. Each piece can be scaled up or down depending on current needs in order to optimize resources while maintaining consistency across\"\n",
      "    },\n",
      "    {\n",
      "      \"finish_reason\": \"stop\",\n",
      "      \"index\": 4,\n",
      "      \"logprobs\": null,\n",
      "      \"text\": \"\\n\\nMicroservices and event driven architechture are two of the most popular trends in software architecture. Microservices is an architecture that consists of small, independent services that can be scaled independently. Event-driven architechture, on the other hand, is a pattern for building loosely coupled applications. These two patterns work well together because they both deal with communication.\\n\\nEvent-driven architechture is a pattern for building loosely coupled applications. This means that events are used as a way to communicate between components and instead of tightly coupling these components together with code. This makes it easier to change one component without affecting the others because there is no tight coupling between them.\\n\\nMicroservices is an architecture that consists of small, independent services that can be scaled independently. These microservices communicate with each other by using asynchronous messaging or synchronous communication through APIs (application programming interfaces). The asynchronous messaging works well when there are many microservices where some may not always be available or when there are large data sets being transferred back and forth between these microservices. Synchronous communication through APIs is more appropriate when only a few microservices need to communicate with each other and when data sets are small in size.\\n\\nEvent-driven architechture and Messaging patterns work well together because they both deal with communication which allows for loose coupling between components while also scaling independently.\\\"\"\n",
      "    },\n",
      "    {\n",
      "      \"finish_reason\": \"length\",\n",
      "      \"index\": 5,\n",
      "      \"logprobs\": null,\n",
      "      \"text\": \"\\n\\nMicroservices and event driven architechture are two important concepts in modern software development. They both allow for the separation of services as well as the ability to scale them independently. I would like to explore these two concepts in more detail, and how they can be implemented together using Spring Boot and Spring Cloud.\\n\\nMicroservices are an architectural style that allows a single application to be composed of many small independent services. These small independent services can then be scaled individually based on load or other factors without affecting the rest of the application. With microservices, it is possible to build applications with high availability and scalability because each service is only responsible for one thing, so if one service goes down it does not affect any other services running on the same machine or another machine.\\n\\nEvent driven architechture is a way of writing software where work is triggered by events rather than polling for changes. In this architecture, there are three main components: producers that generate events, consumers that consume events, and a broker that sends messages between producers and consumers when they cannot communicate directly. The advantage of this approach over traditional polling methods is that it eliminates wasted work by waiting for an event to occur before doing anything else. It also reduces latency by not having to wait for responses from the server every time you need data from it.\\\"\\n\\n\\\"Spring Boot is a framework that makes building Spring-based applications easy by providing opinionated defaults and convention-over-configuration support.\\\" \\n\"\n",
      "    },\n",
      "    {\n",
      "      \"finish_reason\": \"stop\",\n",
      "      \"index\": 6,\n",
      "      \"logprobs\": null,\n",
      "      \"text\": \"\\n\\nI have been working with Microservices and event driven architechture for a while now. I was excited when I first heard about Docker, Kubernetes and OpenShift. It sounded like the perfect combination to help make my work easier.\\n\\nDocker is an open-source project that automates the deployment of applications inside software containers. Containers are isolated from one another, but they share the same operating system kernel and can be deployed on any server that runs Docker.\\n\\nKubernetes is a production-grade container orchestration system for managing docker containers across multiple hosts, providing basic mechanisms for deployment, maintenance, and scaling of applications. It aims to provide developers with a platform to reliably run their distributed applications on any infrastructure.\\n\\nOpenShift is Red Hat\\u2019s open source platform as a service (PaaS) solution for running containerized applications in a clustered environment where application dependencies can be automatically handled by the underlying infrastructure without manual configuration.\"\n",
      "    },\n",
      "    {\n",
      "      \"finish_reason\": \"length\",\n",
      "      \"index\": 7,\n",
      "      \"logprobs\": null,\n",
      "      \"text\": \"\\n\\nTesting microservices in a container\\n\\nMicroservices are a new way of developing software that has gained popularity in recent years. The concept of the microservice is to break down a system into smaller pieces, which can be developed and deployed independently. Microservices are also event-driven, which means that they react to events happening around them. This makes it easier for developers to test their services because they can simulate events without having to trigger them. Containerization is an important part of the testing process because it ensures that all dependencies are met by the service. It also makes it easy for developers to deploy their services with one command in a production environment.\\n\\nThe challenge with testing microservices is that there are too many possible scenarios for testing them all manually. Fortunately, there are automated tools available for this purpose such as Selenium and Cucumber BDD which allow developers to create tests with the use of code instead of writing out steps manually. These tools can then be run on any device or operating system and provide feedback about how well the service responds under certain conditions. This helps ensure that services work well together when deployed at scale, have adequate security and resilience measures in place, and do not contain bugs or vulnerabilities that could cause problems later on. \\n\\nContainerization plays an important role in ensuring reliable deployment by providing isolation from other containers so that each service only interacts with what it needs to interact with. It also simplifies deployment because developers don't need to worry about installing\"\n",
      "    }\n",
      "  ],\n",
      "  \"created\": 1628074550,\n",
      "  \"id\": \"cmpl-3T8qshEbhY4BKzL5ZzEN1XMFm2j7U\",\n",
      "  \"model\": \"if-davinci-v2\",\n",
      "  \"object\": \"text_completion\"\n",
      "}\n"
     ]
    }
   ],
   "source": [
    "# Generate Essay Style Output Based On Table Of Contents\n",
    "\n",
    "content_response = openai.Completion.create(\n",
    "  engine=\"davinci-instruct-beta\",\n",
    "  prompt=followUp,\n",
    "  temperature=0.5,\n",
    "  max_tokens=300,\n",
    "  top_p=1.0,\n",
    "  frequency_penalty=0.52,\n",
    "  presence_penalty=0.5,\n",
    ")\n",
    "\n",
    "# Output in sensible format\n",
    "\n",
    "for i in range(0,len(content_response[\"choices\"])):\n",
    "    print(content_response[\"choices\"][i][\"text\"])"
   ]
  }
 ],
 "metadata": {
  "kernelspec": {
   "display_name": "Python 3 (ipykernel)",
   "language": "python",
   "name": "python3"
  },
  "language_info": {
   "codemirror_mode": {
    "name": "ipython",
    "version": 3
   },
   "file_extension": ".py",
   "mimetype": "text/x-python",
   "name": "python",
   "nbconvert_exporter": "python",
   "pygments_lexer": "ipython3",
   "version": "3.9.6"
  }
 },
 "nbformat": 4,
 "nbformat_minor": 5
}
