{
 "cells": [
  {
   "cell_type": "markdown",
   "execution_count": 1,
   "id": "888480bf",
   "metadata": {},
   "outputs": [],
   "source": [
    "See link for demo of different imputs:"
    "https://github.com/pywebio/PyWebIO/blob/0da4078eff75b43b4d9703700e6eb8201d7e2dc1/demos/input_usage.py"
   ]
  },
  {
   "cell_type": "code",
   "execution_count": 1,
   "id": "888480bf",
   "metadata": {},
   "outputs": [],
   "source": [
    "import nest_asyncio\n",
    "nest_asyncio.apply()"
   ]
  },
  {
   "cell_type": "code",
   "execution_count": null,
   "id": "9d220030",
   "metadata": {},
   "outputs": [
    {
     "name": "stdout",
     "output_type": "stream",
     "text": [
      "Listen on 0.0.0.0:8080\n"
     ]
    }
   ],
   "source": [
    "# importing modules\n",
    "\n",
    "from pywebio.input import *\n",
    "from pywebio.output import *\n",
    "from pywebio import start_server\n",
    "from pywebio.session import set_env, download\n",
    "\n",
    "import os\n",
    "import openai\n",
    "\n",
    "openai.api_key = \"OpenAI-API-KEY\"\n",
    "\n",
    "def TOC(topic, toc_seed, style):   \n",
    "    intro = topic + \"\\n1. \" + toc_seed + \"\\n2.\"\n",
    "    toc_response = openai.Completion.create(\n",
    "        engine=\"davinci\",\n",
    "        prompt=intro,\n",
    "        temperature=0.5,\n",
    "        max_tokens=70,\n",
    "        top_p=1,\n",
    "        frequency_penalty=0.52,\n",
    "        presence_penalty=0.5,\n",
    "        stop=[\"11.\"]\n",
    "    )\n",
    "    \n",
    "    TOC=[]\n",
    "    TOC=\"Title: \"+ intro + (toc_response[\"choices\"][0][\"text\"])\n",
    "    TOC=(TOC.split(\"\\n\"))\n",
    "    TOC=[x for x in TOC if x]\n",
    "\n",
    "    followUp=[]\n",
    "    followUp=[e[3:] for e in TOC[1:]]\n",
    "    followUp=[\"Write a \" + style + \" on the topic of \" +topic +\" and \"+ str(x) + \"\\n\\\"\\\"\\\"\\\"\\\"\\\"\\n\" + str(x)+\"\\n\\\"\\\"\\\"\\\"\\\"\\\"\\nThis is the \" + style + \" I wrote about \" +str(x) + \"\\n\\\"\\\"\\\"\\\"\\\"\\\"\" for x in followUp]\n",
    "       \n",
    "    content_response = openai.Completion.create(\n",
    "      engine=\"davinci-instruct-beta\",\n",
    "      prompt=followUp,\n",
    "      temperature=0.5,\n",
    "      max_tokens=300,\n",
    "      top_p=1.0,\n",
    "      frequency_penalty=0.52,\n",
    "      presence_penalty=0.5,\n",
    "    )\n",
    "    \n",
    "    f = open(topic + \".md\", \"a\")\n",
    "\n",
    "    f.write(\"# \" + topic)\n",
    "    f.write(\"\\n> This was made using [open.ai](open.ai)\")\n",
    "\n",
    "    for i in range(0,len(content_response[\"choices\"])):\n",
    "        f.write(\"\\n \\n\")\n",
    "        f.write(\"## \" + TOC[i+1])\n",
    "        f.write(content_response[\"choices\"][i][\"text\"])\n",
    "        f.write(\"\\n \\n\")\n",
    "     \n",
    "    f.close()\n",
    "    \n",
    "    \n",
    "    put_markdown(\"# \" + topic)\n",
    "    put_markdown(\"\\n> This was made using [open.ai](open.ai)\")\n",
    "\n",
    "    for i in range(0,len(content_response[\"choices\"])):\n",
    "        put_markdown(\"\\n \\n\")\n",
    "        put_markdown(\"## \" + TOC[i+1])\n",
    "        put_markdown(content_response[\"choices\"][i][\"text\"])\n",
    "        put_markdown(\"\\n \\n\")\n",
    "    \n",
    "    put_buttons(['Download content'], lambda _: download('saved.md', pin.md_text.encode('utf8')), small=True)\n",
    "\n",
    "\n",
    "def main():\n",
    "    \n",
    "    set_env(output_animation=False)\n",
    "    \n",
    "    put_markdown('# OpenAI Essay Writer')\n",
    "    put_markdown('This is a tool for generating text automatically')\n",
    "    \n",
    "    data = input_group(\"Input\",[\n",
    "    input(\"What do you want to write about?\", name='topic'),\n",
    "    input(\"What is the first line of the table of contents\", name='toc_seed'),\n",
    "    select(\"Select writing style\", ['High-school essay', 'University paper','Professional report','Manual' ], name='style')\n",
    "    ])    \n",
    "\n",
    "    \n",
    "    TOC(data['topic'], data['toc_seed'], data['style'])  \n",
    "    \n",
    "    \n",
    "start_server(main, port=8080, debug=True, cdn=False)\n",
    "session.hold()"
   ]
  }
 ],
 "metadata": {
  "kernelspec": {
   "display_name": "Python 3 (ipykernel)",
   "language": "python",
   "name": "python3"
  },
  "language_info": {
   "codemirror_mode": {
    "name": "ipython",
    "version": 3
   },
   "file_extension": ".py",
   "mimetype": "text/x-python",
   "name": "python",
   "nbconvert_exporter": "python",
   "pygments_lexer": "ipython3",
   "version": "3.9.6"
  }
 },
 "nbformat": 4,
 "nbformat_minor": 5
}
